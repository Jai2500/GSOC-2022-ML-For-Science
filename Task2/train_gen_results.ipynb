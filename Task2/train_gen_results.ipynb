{
 "cells": [
  {
   "cell_type": "code",
   "execution_count": 1,
   "id": "23026413-1acb-4918-b4a1-c323b2090f71",
   "metadata": {},
   "outputs": [
    {
     "name": "stderr",
     "output_type": "stream",
     "text": [
      "/home/jai.bardhan/anaconda3/envs/ml/lib/python3.8/site-packages/tqdm/auto.py:22: TqdmWarning: IProgress not found. Please update jupyter and ipywidgets. See https://ipywidgets.readthedocs.io/en/stable/user_install.html\n",
      "  from .autonotebook import tqdm as notebook_tqdm\n"
     ]
    }
   ],
   "source": [
    "import torch\n",
    "import wandb\n",
    "from tqdm.auto import tqdm\n",
    "from torchmetrics import AUROC, ROC, Accuracy\n",
    "from dataset import ImageDatasetFromParquet\n",
    "import torch_geometric\n",
    "import torchvision.transforms as T\n",
    "import torchvision\n",
    "import copy\n",
    "import matplotlib.pyplot as plt"
   ]
  },
  {
   "cell_type": "code",
   "execution_count": 2,
   "id": "1bfb5f4a-8799-4425-ad7a-c2e0f0aa8967",
   "metadata": {},
   "outputs": [],
   "source": [
    "torch.manual_seed(42)\n",
    "\n",
    "import random\n",
    "random.seed(42)\n",
    "\n",
    "import numpy as np\n",
    "np.random.seed(42)"
   ]
  },
  {
   "cell_type": "code",
   "execution_count": 3,
   "id": "b9fc8a32-8010-4539-b512-ac5130e2069a",
   "metadata": {},
   "outputs": [],
   "source": [
    "DEVICE = \"cuda\"\n",
    "TRAIN_BATCH_SIZE = 64\n",
    "VAL_BATCH_SIZE = 64\n",
    "TEST_BATCH_SIZE = 64\n",
    "NUM_EPOCHS = 5"
   ]
  },
  {
   "cell_type": "code",
   "execution_count": 4,
   "id": "73deedfc-e804-4e57-8d5a-004a93ec7241",
   "metadata": {},
   "outputs": [],
   "source": [
    "required_transform = [\n",
    "    #T.Resize(224),\n",
    "    T.RandomHorizontalFlip(),\n",
    "    T.RandomVerticalFlip(),\n",
    "    T.Normalize(mean=[0.485, 0.456, 0.406],\n",
    "                std=[0.229, 0.224, 0.225]),\n",
    "    # T.RandomAdjustSharpness(0.5, p=0.1),\n",
    "]"
   ]
  },
  {
   "cell_type": "code",
   "execution_count": 5,
   "id": "1bc61928-5feb-456e-971a-68b225bf05b7",
   "metadata": {},
   "outputs": [],
   "source": [
    "run_0_path = \"/scratch/gsoc/parquet_ds/QCDToGGQQ_IMGjet_RH1all_jet0_run0_n36272.test.snappy.parquet\"\n",
    "run_1_path = \"/scratch/gsoc/parquet_ds/QCDToGGQQ_IMGjet_RH1all_jet0_run1_n47540.test.snappy.parquet\"\n",
    "run_2_path = \"/scratch/gsoc/parquet_ds/QCDToGGQQ_IMGjet_RH1all_jet0_run2_n55494.test.snappy.parquet\"\n",
    "\n",
    "\n",
    "run_0_ds = ImageDatasetFromParquet(run_0_path, transforms=required_transform)\n",
    "run_1_ds = ImageDatasetFromParquet(run_1_path, transforms=required_transform)\n",
    "run_2_ds = ImageDatasetFromParquet(run_2_path, transforms=required_transform)\n",
    "\n",
    "combined_dset = torch.utils.data.ConcatDataset([run_0_ds, run_1_ds, run_2_ds])"
   ]
  },
  {
   "cell_type": "code",
   "execution_count": 6,
   "id": "279720c0-b5ee-4c7d-8b53-26636f88ff4f",
   "metadata": {},
   "outputs": [],
   "source": [
    "TEST_SIZE = 0.2\n",
    "VAL_SIZE = 0.15\n",
    "\n",
    "test_size = int(len(combined_dset) * TEST_SIZE)\n",
    "val_size = int(len(combined_dset) * VAL_SIZE)\n",
    "train_size = len(combined_dset) - val_size - test_size\n",
    "\n",
    "train_dset, val_dset, test_dset = torch.utils.data.random_split(\n",
    "    combined_dset,\n",
    "    [train_size, val_size, test_size],\n",
    "    generator=torch.Generator().manual_seed(42),\n",
    ")"
   ]
  },
  {
   "cell_type": "code",
   "execution_count": 7,
   "id": "9962fad8-30bd-4d46-a60c-e2193f3fc3d9",
   "metadata": {},
   "outputs": [],
   "source": [
    "test_dset.required_transforms = [T.Normalize(mean=[0.485, 0.456, 0.406], std=[0.229, 0.224, 0.225])]"
   ]
  },
  {
   "cell_type": "code",
   "execution_count": 8,
   "id": "496a31df-c3e2-4e27-b161-124522d8557a",
   "metadata": {
    "tags": []
   },
   "outputs": [],
   "source": [
    "train_loader = torch.utils.data.DataLoader(train_dset, shuffle=True, batch_size=TRAIN_BATCH_SIZE, pin_memory=True, num_workers=16)\n",
    "val_loader = torch.utils.data.DataLoader(val_dset, shuffle=False, batch_size=VAL_BATCH_SIZE, pin_memory=True, num_workers=16)\n",
    "test_loader = torch.utils.data.DataLoader(test_dset, shuffle=False, batch_size=TEST_BATCH_SIZE, num_workers=16)"
   ]
  },
  {
   "cell_type": "markdown",
   "id": "a34b1fb6-2b98-47b2-9e42-e5947a580ac7",
   "metadata": {},
   "source": [
    "The approach only uses data from the energy deposits, as it was not clear whether $p_T$ and $m_0$ was allowed to be used for classification"
   ]
  },
  {
   "cell_type": "code",
   "execution_count": 9,
   "id": "9a2c3e8d-25f0-4633-9c03-019858dbc861",
   "metadata": {},
   "outputs": [],
   "source": [
    "def get_model(device):\n",
    "    model = torchvision.models.resnet50(pretrained=True)\n",
    "\n",
    "    in_features = model.fc.in_features\n",
    "\n",
    "    model.fc = torch.nn.Linear(in_features, 1, bias=True)\n",
    "\n",
    "    model = model.to(device)\n",
    "    return model"
   ]
  },
  {
   "cell_type": "code",
   "execution_count": 10,
   "id": "a2be3a38-dae4-4e8e-8159-67d21b37f4d1",
   "metadata": {},
   "outputs": [],
   "source": [
    "def get_optimizer(model, lr):\n",
    "    return torch.optim.Adam(model.parameters(), lr=lr)"
   ]
  },
  {
   "cell_type": "code",
   "execution_count": 11,
   "id": "8204e39f-0dac-4c9e-9e03-3c0f930f45bf",
   "metadata": {},
   "outputs": [],
   "source": [
    "def train(num_epochs, model, criterion, optimizer, train_loader, val_loader, device):\n",
    "    best_model = copy.deepcopy(model).to('cpu', non_blocking=True)\n",
    "    best_val_auroc = 0\n",
    "    train_auroc = AUROC(num_classes=None).to(device, non_blocking=True)\n",
    "    val_auroc = AUROC(num_classes=None).to(device, non_blocking=True)\n",
    "    acc = Accuracy().to(device, non_blocking=True)\n",
    "    \n",
    "    for epoch in range(num_epochs):\n",
    "        model.train()\n",
    "        tqdm_iter = tqdm(train_loader, total=len(train_loader))\n",
    "        tqdm_iter.set_description(f\"Epoch {epoch}\")\n",
    "\n",
    "        for it, batch in enumerate(tqdm_iter):\n",
    "            optimizer.zero_grad()\n",
    "\n",
    "            X, y = batch['X_jets'].float(), batch['y']\n",
    "\n",
    "            X = X.to(device, non_blocking=True)\n",
    "            y = y.to(device, non_blocking=True)\n",
    "\n",
    "            out = model(X)\n",
    "\n",
    "            loss = criterion(out, y.unsqueeze(-1))\n",
    "\n",
    "            pred = torch.sigmoid(out.detach()).squeeze()\n",
    "            acc.update(pred, y.detach().long())\n",
    "            train_auroc.update(pred, y.detach().long())\n",
    "\n",
    "            tqdm_iter.set_postfix(loss=loss.item(), acc=acc.compute().item())\n",
    "            wandb.log({\n",
    "                \"train_loss\": loss.item(),\n",
    "                \"train_acc\": acc.compute().item(),\n",
    "                \"train_step\": (it * TRAIN_BATCH_SIZE) + epoch * train_size\n",
    "            })\n",
    "\n",
    "            loss.backward()\n",
    "            optimizer.step()\n",
    "\n",
    "        wandb.log({\n",
    "            \"train_auroc\": train_auroc.compute(),\n",
    "            \"train_epoch\": epoch\n",
    "        })\n",
    "        train_auroc.reset()\n",
    "        acc.reset()\n",
    "\n",
    "        model.eval()\n",
    "        val_tqdm_iter = tqdm(val_loader, total=len(val_loader))\n",
    "        val_tqdm_iter.set_description(f\"Validation Epoch {epoch}\")\n",
    "\n",
    "        for it, batch in enumerate(val_tqdm_iter):\n",
    "            with torch.no_grad():\n",
    "                X, y = batch['X_jets'].float(), batch['y']\n",
    "\n",
    "                X = X.to(device, non_blocking=True)\n",
    "                y = y.to(device, non_blocking=True)\n",
    "\n",
    "                out = model(X)\n",
    "\n",
    "                loss = criterion(out, y.unsqueeze(-1))\n",
    "\n",
    "                pred = torch.sigmoid(out.detach()).squeeze() \n",
    "                acc.update(pred, y.detach().to(torch.long, non_blocking=True))\n",
    "                val_auroc.update(pred, y.to(torch.long, non_blocking=True))\n",
    "\n",
    "                val_tqdm_iter.set_postfix(loss=loss.item(), acc=acc.compute().item())\n",
    "                wandb.log({\n",
    "                    \"val_loss\": loss.item(),\n",
    "                    \"val_acc\": acc.compute().item(),\n",
    "                    \"val_step\": (it * VAL_BATCH_SIZE) + epoch * val_size\n",
    "                })\n",
    "\n",
    "        val_auroc_val = val_auroc.compute()\n",
    "        wandb.log({\n",
    "            \"val_auroc\": val_auroc_val,\n",
    "            \"val_epoch\": epoch\n",
    "        })\n",
    "        \n",
    "        if val_auroc_val > best_val_auroc:\n",
    "            best_model = copy.deepcopy(model).to('cpu', non_blocking=True)\n",
    "            best_val_auroc = val_auroc_val\n",
    "        \n",
    "        val_auroc.reset()\n",
    "        acc.reset()\n",
    "        \n",
    "    del model\n",
    "\n",
    "    return best_model.to(device, non_blocking=True)"
   ]
  },
  {
   "cell_type": "code",
   "execution_count": 12,
   "id": "e6ebe58f-1287-404e-91e3-166c5fafffb1",
   "metadata": {},
   "outputs": [],
   "source": [
    "def test(model, test_loader, device):\n",
    "    model.eval()\n",
    "    test_auroc = AUROC(num_classes=None).to(device, non_blocking=True)\n",
    "    test_acc = Accuracy().to(device, non_blocking=True)\n",
    "    test_roc_non_wandb = ROC(num_classes=None).to(device, non_blocking=True)\n",
    "    tqdm_iter = tqdm(test_loader, total=len(test_loader))\n",
    "    \n",
    "    pred_list = []\n",
    "    ground_truth_list = []\n",
    "    \n",
    "    \n",
    "    for it, batch in enumerate(tqdm_iter):\n",
    "        with torch.no_grad():\n",
    "            X, y = batch['X_jets'].float(), batch['y']\n",
    "\n",
    "            X = X.to(device, non_blocking=True)\n",
    "            y = y.to(device, non_blocking=True)\n",
    "\n",
    "            out = model(X)\n",
    "\n",
    "            pred = torch.sigmoid(out.detach()).squeeze() \n",
    "            test_acc.update(pred, y.long())\n",
    "            test_auroc.update(pred, y.long())\n",
    "            test_roc_non_wandb.update(pred, y.long())\n",
    "            \n",
    "            pred_list.append(\n",
    "                pred.cpu()\n",
    "            )\n",
    "            ground_truth_list.append(\n",
    "                y.cpu().long()\n",
    "            )\n",
    "            \n",
    "            tqdm_iter.set_postfix(acc=test_acc.compute().item())\n",
    "            \n",
    "    pred_list = torch.cat(pred_list)\n",
    "    output = torch.cat([1 - pred_list.unsqueeze(-1), pred_list.unsqueeze(-1)], dim=1)\n",
    "    ground_truth_list = torch.cat(ground_truth_list)\n",
    "    \n",
    "    wandb.log({\"test_pr_curve\": wandb.plot.pr_curve(ground_truth_list, output), \n",
    "               \"test_roc_curve\": wandb.plot.roc_curve(ground_truth_list, output)})\n",
    "            \n",
    "    return test_acc.compute().item(), test_auroc.compute().item(), test_roc_non_wandb.cpu().compute()"
   ]
  },
  {
   "cell_type": "code",
   "execution_count": 13,
   "id": "6f853faa-cf25-48d1-8d71-59877c3d9d88",
   "metadata": {},
   "outputs": [],
   "source": [
    "def main(run_name):\n",
    "    wandb.init(name=run_name, project='gsoc-submission')\n",
    "    \n",
    "    model = get_model(DEVICE)\n",
    "    \n",
    "    opt = get_optimizer(model, lr=3e-4)\n",
    "    criterion = torch.nn.BCEWithLogitsLoss()\n",
    "    \n",
    "    model = train(NUM_EPOCHS, model, criterion, opt, train_loader, val_loader, DEVICE)\n",
    "    test_acc, test_auroc, test_roc = test(model, test_loader, DEVICE)\n",
    "    print(f\"Model on Test dataset: Accuracy: {test_acc} \\t AUROC: {test_auroc}\")\n",
    "    \n",
    "    fpr, tpr, threshold = test_roc\n",
    "    \n",
    "    plt.figure(figsize=(6, 6))\n",
    "    plt.plot(fpr, tpr)\n",
    "    plt.xlabel(\"False Positive Rate\")\n",
    "    plt.ylabel(\"True Positive Rate\")\n",
    "    plt.title(\"ROC Curve\")\n",
    "    plt.show()\n",
    "    \n",
    "    print(f\"Thresholds: {threshold.numpy()}\")\n",
    "    \n",
    "    wandb.finish()\n",
    "    \n",
    "    return model"
   ]
  },
  {
   "cell_type": "code",
   "execution_count": 14,
   "id": "a9f5e352-aba5-4b3e-964f-cdab6d7ef2e0",
   "metadata": {},
   "outputs": [
    {
     "name": "stderr",
     "output_type": "stream",
     "text": [
      "Failed to detect the name of this notebook, you can set it manually with the WANDB_NOTEBOOK_NAME environment variable to enable code saving.\n",
      "\u001b[34m\u001b[1mwandb\u001b[0m: Currently logged in as: \u001b[33mjai-bardhan\u001b[0m (use `wandb login --relogin` to force relogin)\n"
     ]
    },
    {
     "data": {
      "text/html": [
       "wandb version 0.12.15 is available!  To upgrade, please run:\n",
       " $ pip install wandb --upgrade"
      ],
      "text/plain": [
       "<IPython.core.display.HTML object>"
      ]
     },
     "metadata": {},
     "output_type": "display_data"
    },
    {
     "data": {
      "text/html": [
       "Tracking run with wandb version 0.12.11"
      ],
      "text/plain": [
       "<IPython.core.display.HTML object>"
      ]
     },
     "metadata": {},
     "output_type": "display_data"
    },
    {
     "data": {
      "text/html": [
       "Run data is saved locally in <code>/home/jai.bardhan/GSOC/Task2/wandb/run-20220424_004519-2lpyqma6</code>"
      ],
      "text/plain": [
       "<IPython.core.display.HTML object>"
      ]
     },
     "metadata": {},
     "output_type": "display_data"
    },
    {
     "data": {
      "text/html": [
       "Syncing run <strong><a href=\"https://wandb.ai/jai-bardhan/gsoc-submission/runs/2lpyqma6\" target=\"_blank\">task_2_class_resnet</a></strong> to <a href=\"https://wandb.ai/jai-bardhan/gsoc-submission\" target=\"_blank\">Weights & Biases</a> (<a href=\"https://wandb.me/run\" target=\"_blank\">docs</a>)<br/>"
      ],
      "text/plain": [
       "<IPython.core.display.HTML object>"
      ]
     },
     "metadata": {},
     "output_type": "display_data"
    },
    {
     "name": "stderr",
     "output_type": "stream",
     "text": [
      "/home/jai.bardhan/anaconda3/envs/ml/lib/python3.8/site-packages/torchmetrics/utilities/prints.py:36: UserWarning: Metric `AUROC` will save all targets and predictions in buffer. For large datasets this may lead to large memory footprint.\n",
      "  warnings.warn(*args, **kwargs)\n",
      "Epoch 0: 100%|██████████| 1415/1415 [06:15<00:00,  3.77it/s, acc=0.708, loss=0.518]\n",
      "Validation Epoch 0: 100%|██████████| 327/327 [01:46<00:00,  3.06it/s, acc=0.724, loss=0.571]\n",
      "Epoch 1: 100%|██████████| 1415/1415 [07:16<00:00,  3.24it/s, acc=0.717, loss=0.635]\n",
      "Validation Epoch 1: 100%|██████████| 327/327 [01:49<00:00,  2.99it/s, acc=0.694, loss=0.606]\n",
      "Epoch 2: 100%|██████████| 1415/1415 [07:26<00:00,  3.17it/s, acc=0.719, loss=0.586]\n",
      "Validation Epoch 2: 100%|██████████| 327/327 [01:54<00:00,  2.85it/s, acc=0.722, loss=0.596]\n",
      "Epoch 3: 100%|██████████| 1415/1415 [07:33<00:00,  3.12it/s, acc=0.722, loss=0.636]\n",
      "Validation Epoch 3: 100%|██████████| 327/327 [01:53<00:00,  2.87it/s, acc=0.718, loss=0.641]\n",
      "Epoch 4: 100%|██████████| 1415/1415 [07:34<00:00,  3.11it/s, acc=0.722, loss=0.685]\n",
      "Validation Epoch 4: 100%|██████████| 327/327 [01:45<00:00,  3.10it/s, acc=0.723, loss=0.685]\n",
      "/home/jai.bardhan/anaconda3/envs/ml/lib/python3.8/site-packages/torchmetrics/utilities/prints.py:36: UserWarning: Metric `ROC` will save all targets and predictions in buffer. For large datasets this may lead to large memory footprint.\n",
      "  warnings.warn(*args, **kwargs)\n",
      "100%|██████████| 436/436 [02:06<00:00,  3.45it/s, acc=0.723]\n",
      "\u001b[34m\u001b[1mwandb\u001b[0m: \u001b[33mWARNING\u001b[0m wandb uses only the first 10000 datapoints to create the plots.\n",
      "\u001b[34m\u001b[1mwandb\u001b[0m: \u001b[33mWARNING\u001b[0m wandb uses only the first 10000 datapoints to create the plots.\n"
     ]
    },
    {
     "name": "stdout",
     "output_type": "stream",
     "text": [
      "Model on Test dataset: Accuracy: 0.7232332229614258 \t AUROC: 0.7933233976364136\n"
     ]
    },
    {
     "data": {
      "image/png": "[encoded data removed]",
      "text/plain": [
       "<Figure size 432x432 with 1 Axes>"
      ]
     },
     "metadata": {
      "needs_background": "light"
     },
     "output_type": "display_data"
    },
    {
     "name": "stdout",
     "output_type": "stream",
     "text": [
      "Thresholds: [1.9865048  0.98650485 0.9835271  ... 0.0538651  0.0534877  0.0497588 ]\n",
      "\n"
     ]
    },
    {
     "data": {
      "text/html": [
       "Waiting for W&B process to finish... <strong style=\"color:green\">(success).</strong>"
      ],
      "text/plain": [
       "<IPython.core.display.HTML object>"
      ]
     },
     "metadata": {},
     "output_type": "display_data"
    },
    {
     "data": {
      "text/html": [
       "<style>\n",
       "    table.wandb td:nth-child(1) { padding: 0 10px; text-align: right }\n",
       "    .wandb-row { display: flex; flex-direction: row; flex-wrap: wrap; width: 100% }\n",
       "    .wandb-col { display: flex; flex-direction: column; flex-basis: 100%; flex: 1; padding: 10px; }\n",
       "    </style>\n",
       "<div class=\"wandb-row\"><div class=\"wandb-col\"><h3>Run history:</h3><br/><table class=\"wandb\"><tr><td>train_acc</td><td>▁▄▅▆▆▆▆▆▇▇▇▇▇▇▇▇▇▇▇▇▇▇▇▇▇▇▇▇▇▇▇▇█████▇▇▇</td></tr><tr><td>train_auroc</td><td>▁▆▆██</td></tr><tr><td>train_epoch</td><td>▁▃▅▆█</td></tr><tr><td>train_loss</td><td>▆▅▄▆▄█▆▄▆▄▃▅▅▄▃▂▅▂█▇▃█▄▄▆▅▄▁▃▁▄▅▃▆▄▄▁▇▄▂</td></tr><tr><td>train_step</td><td>▁▁▁▂▂▂▂▂▂▃▃▃▃▃▄▄▄▄▄▄▅▅▅▅▅▅▆▆▆▆▆▇▇▇▇▇▇███</td></tr><tr><td>val_acc</td><td>█▇██▇▇▇▇▁▂▄▃▃▃▃▃▆▅▆▇▆▆▆▆▅▆▆▆▆▆▆▆▇▆▆▇▆▇▇▆</td></tr><tr><td>val_auroc</td><td>▅▁▅▆█</td></tr><tr><td>val_epoch</td><td>▁▃▅▆█</td></tr><tr><td>val_loss</td><td>▃▄▅▄▂▆▁▄▆▅▅▅▆▅▅▅▄▄▄█▂▅▆▅▅▂▁▃▃▆▄▅▁▁▆▂▂▃▄▂</td></tr><tr><td>val_step</td><td>▁▁▁▁▂▂▂▂▂▃▃▃▃▃▃▄▄▄▄▄▅▅▅▅▅▅▆▆▆▆▆▇▇▇▇▇▇███</td></tr></table><br/></div><div class=\"wandb-col\"><h3>Run summary:</h3><br/><table class=\"wandb\"><tr><td>train_acc</td><td>0.72201</td></tr><tr><td>train_auroc</td><td>0.78799</td></tr><tr><td>train_epoch</td><td>4</td></tr><tr><td>train_loss</td><td>0.68535</td></tr><tr><td>train_step</td><td>452696</td></tr><tr><td>val_acc</td><td>0.72295</td></tr><tr><td>val_auroc</td><td>0.7926</td></tr><tr><td>val_epoch</td><td>4</td></tr><tr><td>val_loss</td><td>0.68459</td></tr><tr><td>val_step</td><td>104444</td></tr></table><br/></div></div>"
      ],
      "text/plain": [
       "<IPython.core.display.HTML object>"
      ]
     },
     "metadata": {},
     "output_type": "display_data"
    },
    {
     "data": {
      "text/html": [
       "Synced <strong style=\"color:#cdcd00\">task_2_class_resnet</strong>: <a href=\"https://wandb.ai/jai-bardhan/gsoc-submission/runs/2lpyqma6\" target=\"_blank\">https://wandb.ai/jai-bardhan/gsoc-submission/runs/2lpyqma6</a><br/>Synced 6 W&B file(s), 2 media file(s), 2 artifact file(s) and 0 other file(s)"
      ],
      "text/plain": [
       "<IPython.core.display.HTML object>"
      ]
     },
     "metadata": {},
     "output_type": "display_data"
    },
    {
     "data": {
      "text/html": [
       "Find logs at: <code>./wandb/run-20220424_004519-2lpyqma6/logs</code>"
      ],
      "text/plain": [
       "<IPython.core.display.HTML object>"
      ]
     },
     "metadata": {},
     "output_type": "display_data"
    }
   ],
   "source": [
    "model = main('task_2_class_resnet')"
   ]
  },
  {
   "cell_type": "code",
   "execution_count": 15,
   "id": "29612699-231a-4cf0-a392-f50fec2beecc",
   "metadata": {},
   "outputs": [],
   "source": [
    "torch.save(model.state_dict(), \"task_2_class_model.pt\")"
   ]
  }
 ],
 "metadata": {
  "kernelspec": {
   "display_name": "Python 3.8.5 64-bit ('ml': conda)",
   "language": "python",
   "name": "python38564bitmlconda30107212453f4d5ba50ee3732a99980f"
  },
  "language_info": {
   "codemirror_mode": {
    "name": "ipython",
    "version": 3
   },
   "file_extension": ".py",
   "mimetype": "text/x-python",
   "name": "python",
   "nbconvert_exporter": "python",
   "pygments_lexer": "ipython3",
   "version": "3.8.12"
  }
 },
 "nbformat": 4,
 "nbformat_minor": 5
}
