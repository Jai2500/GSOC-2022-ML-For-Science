{
 "cells": [
  {
   "cell_type": "code",
   "execution_count": 1,
   "id": "be8ca805-796f-41f3-a91f-2c12e5c8b75d",
   "metadata": {},
   "outputs": [
    {
     "name": "stderr",
     "output_type": "stream",
     "text": [
      "/home/jai.bardhan/anaconda3/envs/ml/lib/python3.8/site-packages/tqdm/auto.py:22: TqdmWarning: IProgress not found. Please update jupyter and ipywidgets. See https://ipywidgets.readthedocs.io/en/stable/user_install.html\n",
      "  from .autonotebook import tqdm as notebook_tqdm\n"
     ]
    }
   ],
   "source": [
    "import torch\n",
    "import wandb\n",
    "from tqdm.auto import tqdm\n",
    "from torchmetrics import AUROC, ROC, Accuracy\n",
    "from models import DGCNN, SimpleGAT\n",
    "from dataset import PointCloudFromParquetDataset\n",
    "import torch_geometric\n",
    "import copy\n",
    "import matplotlib.pyplot as plt"
   ]
  },
  {
   "cell_type": "code",
   "execution_count": 2,
   "id": "b9de5e10-b5b4-4ab3-8cb7-70cede2c6ec0",
   "metadata": {},
   "outputs": [],
   "source": [
    "torch.manual_seed(42)\n",
    "\n",
    "import random\n",
    "random.seed(42)\n",
    "\n",
    "import numpy as np\n",
    "np.random.seed(42)"
   ]
  },
  {
   "cell_type": "code",
   "execution_count": 3,
   "id": "4bde7ec0-05bd-4b00-a5fa-f9613e2eb418",
   "metadata": {},
   "outputs": [],
   "source": [
    "DEVICE = \"cuda\"\n",
    "TRAIN_BATCH_SIZE = 64\n",
    "VAL_BATCH_SIZE = 64\n",
    "TEST_BATCH_SIZE = 64\n",
    "TEST_SIZE = 0.2\n",
    "VAL_SIZE = 0.15\n",
    "NUM_EPOCHS = 5"
   ]
  },
  {
   "cell_type": "code",
   "execution_count": 4,
   "id": "39e5622a-f8ed-478c-8a5d-474df0ba132b",
   "metadata": {},
   "outputs": [],
   "source": [
    "run_0_path = \"/scratch/gsoc/parquet_ds/QCDToGGQQ_IMGjet_RH1all_jet0_run0_n36272.test.snappy.parquet\"\n",
    "run_1_path = \"/scratch/gsoc/parquet_ds/QCDToGGQQ_IMGjet_RH1all_jet0_run1_n47540.test.snappy.parquet\"\n",
    "run_2_path = \"/scratch/gsoc/parquet_ds/QCDToGGQQ_IMGjet_RH1all_jet0_run2_n55494.test.snappy.parquet\"\n",
    "\n",
    "\n",
    "run_0_ds = PointCloudFromParquetDataset(run_0_path,)\n",
    "run_1_ds = PointCloudFromParquetDataset(run_1_path,)\n",
    "run_2_ds = PointCloudFromParquetDataset(run_2_path,)\n",
    "\n",
    "combined_dset = torch.utils.data.ConcatDataset([run_0_ds, run_1_ds, run_2_ds])"
   ]
  },
  {
   "cell_type": "code",
   "execution_count": 5,
   "id": "16fbc07b-c67c-4acd-ac99-09d77cbb3ce5",
   "metadata": {},
   "outputs": [
    {
     "name": "stderr",
     "output_type": "stream",
     "text": [
      "/home/jai.bardhan/anaconda3/envs/ml/lib/python3.8/site-packages/torch_geometric/deprecation.py:13: UserWarning: 'data.DataLoader' is deprecated, use 'loader.DataLoader' instead\n",
      "  warnings.warn(out)\n"
     ]
    }
   ],
   "source": [
    "test_size = int(len(combined_dset) * TEST_SIZE)\n",
    "val_size = int(len(combined_dset) * VAL_SIZE)\n",
    "train_size = len(combined_dset) - val_size - test_size\n",
    "\n",
    "train_dset, val_dset, test_dset = torch.utils.data.random_split(\n",
    "    combined_dset,\n",
    "    [train_size, val_size, test_size],\n",
    "    generator=torch.Generator().manual_seed(42),\n",
    ")\n",
    "\n",
    "\n",
    "train_loader = torch_geometric.data.DataLoader(train_dset, shuffle=True, batch_size=TRAIN_BATCH_SIZE, pin_memory=True, num_workers=16)\n",
    "val_loader = torch_geometric.data.DataLoader(val_dset, shuffle=False, batch_size=VAL_BATCH_SIZE, pin_memory=True, num_workers=16)\n",
    "test_loader = torch_geometric.data.DataLoader(test_dset, shuffle=False, batch_size=TEST_BATCH_SIZE, num_workers=16)"
   ]
  },
  {
   "cell_type": "markdown",
   "id": "af50df55-b488-4aae-8afe-56dbcce2153c",
   "metadata": {},
   "source": [
    "The approach only uses data from the energy deposits, as it was not clear whether $p_T$ and $m_0$ was allowed to be used for classification"
   ]
  },
  {
   "cell_type": "code",
   "execution_count": 6,
   "id": "8842c803-56b7-4626-aa43-cdc1a3590ee2",
   "metadata": {},
   "outputs": [],
   "source": [
    "def train(num_epochs, model, criterion, optimizer, train_loader, val_loader, device):\n",
    "    best_model = copy.deepcopy(model).to('cpu', non_blocking=True)\n",
    "    best_val_auroc = 0\n",
    "    train_auroc = AUROC(num_classes=None).to(device, non_blocking=True)\n",
    "    val_auroc = AUROC(num_classes=None).to(device, non_blocking=True)\n",
    "    acc = Accuracy().to(device, non_blocking=True)\n",
    "    \n",
    "    for epoch in range(num_epochs):\n",
    "        model.train()\n",
    "        tqdm_iter = tqdm(train_loader, total=len(train_loader))\n",
    "        tqdm_iter.set_description(f\"Epoch {epoch}\")\n",
    "\n",
    "        for it, data in enumerate(tqdm_iter):\n",
    "            optimizer.zero_grad()\n",
    "\n",
    "            data = data.to(device, non_blocking=True)\n",
    "            y = data.y\n",
    "\n",
    "            out = model(data)\n",
    "\n",
    "            loss = criterion(out, y.unsqueeze(-1))\n",
    "\n",
    "            pred = torch.sigmoid(out.detach()).squeeze()\n",
    "            acc.update(pred, y.detach().long())\n",
    "            train_auroc.update(pred, y.detach().long())\n",
    "\n",
    "            tqdm_iter.set_postfix(loss=loss.item(), acc=acc.compute().item())\n",
    "            wandb.log({\n",
    "                \"train_loss\": loss.item(),\n",
    "                \"train_acc\": acc.compute().item(),\n",
    "                \"train_step\": (it * TRAIN_BATCH_SIZE) + epoch * train_size\n",
    "            })\n",
    "\n",
    "            loss.backward()\n",
    "            optimizer.step()\n",
    "\n",
    "        wandb.log({\n",
    "            \"train_auroc\": train_auroc.compute(),\n",
    "            \"train_epoch\": epoch\n",
    "        })\n",
    "        train_auroc.reset()\n",
    "        acc.reset()\n",
    "\n",
    "        model.eval()\n",
    "        val_tqdm_iter = tqdm(val_loader, total=len(val_loader))\n",
    "        val_tqdm_iter.set_description(f\"Validation Epoch {epoch}\")\n",
    "\n",
    "        for it, data in enumerate(val_tqdm_iter):\n",
    "            with torch.no_grad():\n",
    "                data = data.to(device, non_blocking=True)\n",
    "                y = data.y\n",
    "\n",
    "                out = model(data)\n",
    "\n",
    "                loss = criterion(out, y.unsqueeze(-1))\n",
    "\n",
    "                pred = torch.sigmoid(out.detach()).squeeze()\n",
    "                acc.update(pred, y.detach().to(torch.long, non_blocking=True))\n",
    "                val_auroc.update(pred, y.to(torch.long, non_blocking=True))\n",
    "\n",
    "                val_tqdm_iter.set_postfix(loss=loss.item(), acc=acc.compute().item())\n",
    "                wandb.log({\n",
    "                    \"val_loss\": loss.item(),\n",
    "                    \"val_acc\": acc.compute().item(),\n",
    "                    \"val_step\": (it * VAL_BATCH_SIZE) + epoch * val_size\n",
    "                })\n",
    "\n",
    "        val_auroc_val = val_auroc.compute()\n",
    "        wandb.log({\n",
    "            \"val_auroc\": val_auroc_val,\n",
    "            \"val_epoch\": epoch\n",
    "        })\n",
    "        \n",
    "        if val_auroc_val > best_val_auroc:\n",
    "            best_model = copy.deepcopy(model).to('cpu', non_blocking=True)\n",
    "            best_val_auroc = val_auroc_val\n",
    "        \n",
    "        val_auroc.reset()\n",
    "        acc.reset()\n",
    "        \n",
    "    del model\n",
    "\n",
    "    return best_model.to(device, non_blocking=True)"
   ]
  },
  {
   "cell_type": "code",
   "execution_count": 7,
   "id": "423475b4-c27e-4e20-8c48-64256e3323f8",
   "metadata": {},
   "outputs": [],
   "source": [
    "def test(model, test_loader, device):\n",
    "    model.eval()\n",
    "    test_auroc = AUROC(num_classes=None).to(device, non_blocking=True)\n",
    "    test_acc = Accuracy().to(device, non_blocking=True)\n",
    "    test_roc_non_wandb = ROC(num_classes=None).to(device, non_blocking=True)\n",
    "    tqdm_iter = tqdm(test_loader, total=len(test_loader))\n",
    "    \n",
    "    pred_list = []\n",
    "    ground_truth_list = []\n",
    "    \n",
    "    \n",
    "    for it, data in enumerate(tqdm_iter):\n",
    "        with torch.no_grad():\n",
    "            data = data.to(device, non_blocking=True)\n",
    "            y = data.y\n",
    "            \n",
    "            out = model(data)\n",
    "            pred = torch.sigmoid(out).squeeze()\n",
    "            test_acc.update(pred, y.long())\n",
    "            test_auroc.update(pred, y.long())\n",
    "            test_roc_non_wandb.update(pred, y.long())\n",
    "            \n",
    "            pred_list.append(\n",
    "                pred.cpu()\n",
    "            )\n",
    "            ground_truth_list.append(\n",
    "                y.cpu().long()\n",
    "            )\n",
    "            \n",
    "            tqdm_iter.set_postfix(acc=test_acc.compute().item())\n",
    "            \n",
    "    pred_list = torch.cat(pred_list)\n",
    "    output = torch.cat([1 - pred_list.unsqueeze(-1), pred_list.unsqueeze(-1)], dim=1)\n",
    "    ground_truth_list = torch.cat(ground_truth_list)\n",
    "    \n",
    "    wandb.log({\"test_pr_curve\": wandb.plot.pr_curve(ground_truth_list, output), \n",
    "               \"test_roc_curve\": wandb.plot.roc_curve(ground_truth_list, output)})\n",
    "            \n",
    "    return test_acc.compute().item(), test_auroc.compute().item(), test_roc_non_wandb.cpu().compute()"
   ]
  },
  {
   "cell_type": "code",
   "execution_count": 8,
   "id": "dcae6fe1-60fc-42bc-beb5-b5f7dc7cb9d5",
   "metadata": {},
   "outputs": [],
   "source": [
    "def get_optimizer(model, lr):\n",
    "    return torch.optim.Adam(model.parameters(), lr=lr)"
   ]
  },
  {
   "cell_type": "code",
   "execution_count": 9,
   "id": "c0e8d02f-21ae-47ec-84de-d5639eb0a301",
   "metadata": {},
   "outputs": [],
   "source": [
    "def main(run_name, model_type='dgcnn'):\n",
    "    wandb.init(name=run_name, project='gsoc-submission')\n",
    "    \n",
    "    if model_type == 'dgcnn':\n",
    "        model = DGCNN(k=20)\n",
    "    elif model_type == 'gat':\n",
    "        model = SimpleGAT(k=20)\n",
    "    else:\n",
    "        raise ValueError(f\"Invalid type MODEL: {model_type}\")\n",
    "        \n",
    "    model = model.to(DEVICE)\n",
    "        \n",
    "    opt = get_optimizer(model, lr=1e-3)\n",
    "    criterion = torch.nn.BCEWithLogitsLoss()\n",
    "    \n",
    "    model = train(NUM_EPOCHS, model, criterion, opt, train_loader, val_loader, DEVICE)\n",
    "    test_acc, test_auroc, test_roc = test(model, test_loader, DEVICE)\n",
    "    print(f\"Model on Test dataset: Accuracy: {test_acc} \\t AUROC: {test_auroc}\")\n",
    "    \n",
    "    fpr, tpr, threshold = test_roc\n",
    "    \n",
    "    plt.figure(figsize=(6, 6))\n",
    "    plt.plot(fpr, tpr)\n",
    "    plt.xlabel(\"False Positive Rate\")\n",
    "    plt.ylabel(\"True Positive Rate\")\n",
    "    plt.title(\"ROC Curve\")\n",
    "    plt.show()\n",
    "    \n",
    "    print(f\"Thresholds: {threshold.numpy()}\")\n",
    "    \n",
    "    wandb.finish()\n",
    "    \n",
    "    return model"
   ]
  },
  {
   "cell_type": "markdown",
   "id": "163f3159-e2ba-471a-ae29-9990a5b6862b",
   "metadata": {},
   "source": [
    "**Running the ParticleNet based DGCNN Model**"
   ]
  },
  {
   "cell_type": "code",
   "execution_count": 10,
   "id": "a7c1206c-c9c5-4530-82ca-93f8e811dc84",
   "metadata": {},
   "outputs": [
    {
     "name": "stderr",
     "output_type": "stream",
     "text": [
      "Failed to detect the name of this notebook, you can set it manually with the WANDB_NOTEBOOK_NAME environment variable to enable code saving.\n",
      "\u001b[34m\u001b[1mwandb\u001b[0m: Currently logged in as: \u001b[33mjai-bardhan\u001b[0m (use `wandb login --relogin` to force relogin)\n"
     ]
    },
    {
     "data": {
      "text/html": [
       "wandb version 0.12.15 is available!  To upgrade, please run:\n",
       " $ pip install wandb --upgrade"
      ],
      "text/plain": [
       "<IPython.core.display.HTML object>"
      ]
     },
     "metadata": {},
     "output_type": "display_data"
    },
    {
     "data": {
      "text/html": [
       "Tracking run with wandb version 0.12.11"
      ],
      "text/plain": [
       "<IPython.core.display.HTML object>"
      ]
     },
     "metadata": {},
     "output_type": "display_data"
    },
    {
     "data": {
      "text/html": [
       "Run data is saved locally in <code>/home/jai.bardhan/GSOC/Task3/wandb/run-20220424_014950-f0nbtz9n</code>"
      ],
      "text/plain": [
       "<IPython.core.display.HTML object>"
      ]
     },
     "metadata": {},
     "output_type": "display_data"
    },
    {
     "data": {
      "text/html": [
       "Syncing run <strong><a href=\"https://wandb.ai/jai-bardhan/gsoc-submission/runs/f0nbtz9n\" target=\"_blank\">task_3_dgcnn</a></strong> to <a href=\"https://wandb.ai/jai-bardhan/gsoc-submission\" target=\"_blank\">Weights & Biases</a> (<a href=\"https://wandb.me/run\" target=\"_blank\">docs</a>)<br/>"
      ],
      "text/plain": [
       "<IPython.core.display.HTML object>"
      ]
     },
     "metadata": {},
     "output_type": "display_data"
    },
    {
     "name": "stderr",
     "output_type": "stream",
     "text": [
      "/home/jai.bardhan/anaconda3/envs/ml/lib/python3.8/site-packages/torchmetrics/utilities/prints.py:36: UserWarning: Metric `AUROC` will save all targets and predictions in buffer. For large datasets this may lead to large memory footprint.\n",
      "  warnings.warn(*args, **kwargs)\n",
      "Epoch 0: 100%|██████████| 1415/1415 [04:17<00:00,  5.50it/s, acc=0.708, loss=0.533]\n",
      "Validation Epoch 0: 100%|██████████| 327/327 [00:57<00:00,  5.71it/s, acc=0.721, loss=0.63] \n",
      "Epoch 1: 100%|██████████| 1415/1415 [04:21<00:00,  5.40it/s, acc=0.716, loss=0.454]\n",
      "Validation Epoch 1: 100%|██████████| 327/327 [00:58<00:00,  5.54it/s, acc=0.723, loss=0.603]\n",
      "Epoch 2: 100%|██████████| 1415/1415 [04:22<00:00,  5.39it/s, acc=0.72, loss=0.527] \n",
      "Validation Epoch 2: 100%|██████████| 327/327 [00:58<00:00,  5.59it/s, acc=0.601, loss=0.634]\n",
      "Epoch 3: 100%|██████████| 1415/1415 [04:22<00:00,  5.39it/s, acc=0.721, loss=0.558]\n",
      "Validation Epoch 3: 100%|██████████| 327/327 [00:58<00:00,  5.57it/s, acc=0.727, loss=0.649]\n",
      "Epoch 4: 100%|██████████| 1415/1415 [04:20<00:00,  5.42it/s, acc=0.723, loss=0.648]\n",
      "Validation Epoch 4: 100%|██████████| 327/327 [00:58<00:00,  5.56it/s, acc=0.726, loss=0.637]\n",
      "/home/jai.bardhan/anaconda3/envs/ml/lib/python3.8/site-packages/torchmetrics/utilities/prints.py:36: UserWarning: Metric `ROC` will save all targets and predictions in buffer. For large datasets this may lead to large memory footprint.\n",
      "  warnings.warn(*args, **kwargs)\n",
      "100%|██████████| 436/436 [01:18<00:00,  5.59it/s, acc=0.727]\n",
      "\u001b[34m\u001b[1mwandb\u001b[0m: \u001b[33mWARNING\u001b[0m wandb uses only the first 10000 datapoints to create the plots.\n",
      "\u001b[34m\u001b[1mwandb\u001b[0m: \u001b[33mWARNING\u001b[0m wandb uses only the first 10000 datapoints to create the plots.\n"
     ]
    },
    {
     "name": "stdout",
     "output_type": "stream",
     "text": [
      "Model on Test dataset: Accuracy: 0.7272172570228577 \t AUROC: 0.7936313152313232\n"
     ]
    },
    {
     "data": {
      "image/png": "[encoded data removed]",
      "text/plain": [
       "<Figure size 432x432 with 1 Axes>"
      ]
     },
     "metadata": {
      "needs_background": "light"
     },
     "output_type": "display_data"
    },
    {
     "name": "stdout",
     "output_type": "stream",
     "text": [
      "Thresholds: [2.         1.         0.9995807  ... 0.03252365 0.03249175 0.03118908]\n",
      "\n"
     ]
    },
    {
     "data": {
      "text/html": [
       "Waiting for W&B process to finish... <strong style=\"color:green\">(success).</strong>"
      ],
      "text/plain": [
       "<IPython.core.display.HTML object>"
      ]
     },
     "metadata": {},
     "output_type": "display_data"
    },
    {
     "data": {
      "text/html": [
       "<style>\n",
       "    table.wandb td:nth-child(1) { padding: 0 10px; text-align: right }\n",
       "    .wandb-row { display: flex; flex-direction: row; flex-wrap: wrap; width: 100% }\n",
       "    .wandb-col { display: flex; flex-direction: column; flex-basis: 100%; flex: 1; padding: 10px; }\n",
       "    </style>\n",
       "<div class=\"wandb-row\"><div class=\"wandb-col\"><h3>Run history:</h3><br/><table class=\"wandb\"><tr><td>train_acc</td><td>▁▃▄▄▅▅▅▅▆▇▇▇▇▇▇▇▅▆▆▇▇▇▇▇█▇▇█▇█▇▇█▇██████</td></tr><tr><td>train_auroc</td><td>▁▅▇▇█</td></tr><tr><td>train_epoch</td><td>▁▃▅▆█</td></tr><tr><td>train_loss</td><td>▅▅▅▅▃▅▄▄▆▁▃█▄▆▃▄▆▄▄▃█▅▃▁▅▇▄▂▃▄▆▅▂▄▃▂▁▄▄▃</td></tr><tr><td>train_step</td><td>▁▁▁▂▂▂▂▂▂▃▃▃▃▃▄▄▄▄▄▄▅▅▅▅▅▅▆▆▆▆▆▇▇▇▇▇▇███</td></tr><tr><td>val_acc</td><td>▇███████▇███████▂▁▁▁▁▁▁▁████████████████</td></tr><tr><td>val_auroc</td><td>▅▆▁██</td></tr><tr><td>val_epoch</td><td>▁▃▅▆█</td></tr><tr><td>val_loss</td><td>▂▄▆▅▄▆▁▅▅▂▅▄▆▅▅▅▅▇▆▆▃▆█▇▄▁▁▂▂▅▃▆▁▃▅▄▃▄▃▃</td></tr><tr><td>val_step</td><td>▁▁▁▁▂▂▂▂▂▃▃▃▃▃▃▄▄▄▄▄▅▅▅▅▅▅▆▆▆▆▆▇▇▇▇▇▇███</td></tr></table><br/></div><div class=\"wandb-col\"><h3>Run summary:</h3><br/><table class=\"wandb\"><tr><td>train_acc</td><td>0.72254</td></tr><tr><td>train_auroc</td><td>0.78623</td></tr><tr><td>train_epoch</td><td>4</td></tr><tr><td>train_loss</td><td>0.64819</td></tr><tr><td>train_step</td><td>452696</td></tr><tr><td>val_acc</td><td>0.72611</td></tr><tr><td>val_auroc</td><td>0.79179</td></tr><tr><td>val_epoch</td><td>4</td></tr><tr><td>val_loss</td><td>0.63721</td></tr><tr><td>val_step</td><td>104444</td></tr></table><br/></div></div>"
      ],
      "text/plain": [
       "<IPython.core.display.HTML object>"
      ]
     },
     "metadata": {},
     "output_type": "display_data"
    },
    {
     "data": {
      "text/html": [
       "Synced <strong style=\"color:#cdcd00\">task_3_dgcnn</strong>: <a href=\"https://wandb.ai/jai-bardhan/gsoc-submission/runs/f0nbtz9n\" target=\"_blank\">https://wandb.ai/jai-bardhan/gsoc-submission/runs/f0nbtz9n</a><br/>Synced 6 W&B file(s), 2 media file(s), 2 artifact file(s) and 0 other file(s)"
      ],
      "text/plain": [
       "<IPython.core.display.HTML object>"
      ]
     },
     "metadata": {},
     "output_type": "display_data"
    },
    {
     "data": {
      "text/html": [
       "Find logs at: <code>./wandb/run-20220424_014950-f0nbtz9n/logs</code>"
      ],
      "text/plain": [
       "<IPython.core.display.HTML object>"
      ]
     },
     "metadata": {},
     "output_type": "display_data"
    }
   ],
   "source": [
    "dgcnn_model = main('task_3_dgcnn').to('cpu', non_blocking=True)"
   ]
  },
  {
   "cell_type": "code",
   "execution_count": 11,
   "id": "abe11425-1d75-4a69-9c1c-8b595f88c448",
   "metadata": {},
   "outputs": [],
   "source": [
    "wandb.finish()"
   ]
  },
  {
   "cell_type": "code",
   "execution_count": 12,
   "id": "33377a72-70e6-4ace-b46c-fe7fc75b0bab",
   "metadata": {},
   "outputs": [],
   "source": [
    "torch.save(dgcnn_model.state_dict(), \"dgcnn_model.pt\")"
   ]
  },
  {
   "cell_type": "markdown",
   "id": "76dbc84f-058f-42a7-980f-3b919f191d64",
   "metadata": {},
   "source": [
    "**Running the GAT Model**"
   ]
  },
  {
   "cell_type": "code",
   "execution_count": 13,
   "id": "ecf218ca-c1f6-4692-9e3c-0b2f9e282f7c",
   "metadata": {},
   "outputs": [
    {
     "data": {
      "text/html": [
       "wandb version 0.12.15 is available!  To upgrade, please run:\n",
       " $ pip install wandb --upgrade"
      ],
      "text/plain": [
       "<IPython.core.display.HTML object>"
      ]
     },
     "metadata": {},
     "output_type": "display_data"
    },
    {
     "data": {
      "text/html": [
       "Tracking run with wandb version 0.12.11"
      ],
      "text/plain": [
       "<IPython.core.display.HTML object>"
      ]
     },
     "metadata": {},
     "output_type": "display_data"
    },
    {
     "data": {
      "text/html": [
       "Run data is saved locally in <code>/home/jai.bardhan/GSOC/Task3/wandb/run-20220424_021811-1hn26rfr</code>"
      ],
      "text/plain": [
       "<IPython.core.display.HTML object>"
      ]
     },
     "metadata": {},
     "output_type": "display_data"
    },
    {
     "data": {
      "text/html": [
       "Syncing run <strong><a href=\"https://wandb.ai/jai-bardhan/gsoc-submission/runs/1hn26rfr\" target=\"_blank\">task_3_gat</a></strong> to <a href=\"https://wandb.ai/jai-bardhan/gsoc-submission\" target=\"_blank\">Weights & Biases</a> (<a href=\"https://wandb.me/run\" target=\"_blank\">docs</a>)<br/>"
      ],
      "text/plain": [
       "<IPython.core.display.HTML object>"
      ]
     },
     "metadata": {},
     "output_type": "display_data"
    },
    {
     "name": "stderr",
     "output_type": "stream",
     "text": [
      "/home/jai.bardhan/anaconda3/envs/ml/lib/python3.8/site-packages/torchmetrics/utilities/prints.py:36: UserWarning: Metric `AUROC` will save all targets and predictions in buffer. For large datasets this may lead to large memory footprint.\n",
      "  warnings.warn(*args, **kwargs)\n",
      "Epoch 0: 100%|██████████| 1415/1415 [03:52<00:00,  6.08it/s, acc=0.678, loss=0.598]\n",
      "Validation Epoch 0: 100%|██████████| 327/327 [01:00<00:00,  5.42it/s, acc=0.691, loss=0.655]\n",
      "Epoch 1: 100%|██████████| 1415/1415 [03:46<00:00,  6.24it/s, acc=0.691, loss=0.614]\n",
      "Validation Epoch 1: 100%|██████████| 327/327 [00:56<00:00,  5.77it/s, acc=0.698, loss=0.646]\n",
      "Epoch 2: 100%|██████████| 1415/1415 [03:46<00:00,  6.24it/s, acc=0.7, loss=0.476]  \n",
      "Validation Epoch 2: 100%|██████████| 327/327 [00:56<00:00,  5.76it/s, acc=0.707, loss=0.633]\n",
      "Epoch 3: 100%|██████████| 1415/1415 [03:46<00:00,  6.26it/s, acc=0.703, loss=0.533]\n",
      "Validation Epoch 3: 100%|██████████| 327/327 [00:57<00:00,  5.71it/s, acc=0.701, loss=0.652]\n",
      "Epoch 4: 100%|██████████| 1415/1415 [03:45<00:00,  6.27it/s, acc=0.704, loss=0.473]\n",
      "Validation Epoch 4: 100%|██████████| 327/327 [00:56<00:00,  5.77it/s, acc=0.707, loss=0.637]\n",
      "/home/jai.bardhan/anaconda3/envs/ml/lib/python3.8/site-packages/torchmetrics/utilities/prints.py:36: UserWarning: Metric `ROC` will save all targets and predictions in buffer. For large datasets this may lead to large memory footprint.\n",
      "  warnings.warn(*args, **kwargs)\n",
      "100%|██████████| 436/436 [01:15<00:00,  5.77it/s, acc=0.71] \n",
      "\u001b[34m\u001b[1mwandb\u001b[0m: \u001b[33mWARNING\u001b[0m wandb uses only the first 10000 datapoints to create the plots.\n",
      "\u001b[34m\u001b[1mwandb\u001b[0m: \u001b[33mWARNING\u001b[0m wandb uses only the first 10000 datapoints to create the plots.\n"
     ]
    },
    {
     "name": "stdout",
     "output_type": "stream",
     "text": [
      "Model on Test dataset: Accuracy: 0.7098453044891357 \t AUROC: 0.7712491750717163\n"
     ]
    },
    {
     "data": {
      "image/png": "[encoded data removed]",
      "text/plain": [
       "<Figure size 432x432 with 1 Axes>"
      ]
     },
     "metadata": {
      "needs_background": "light"
     },
     "output_type": "display_data"
    },
    {
     "name": "stdout",
     "output_type": "stream",
     "text": [
      "Thresholds: [2.         1.         0.9999995  ... 0.02976456 0.02935774 0.02333412]\n",
      "\n"
     ]
    },
    {
     "data": {
      "text/html": [
       "Waiting for W&B process to finish... <strong style=\"color:green\">(success).</strong>"
      ],
      "text/plain": [
       "<IPython.core.display.HTML object>"
      ]
     },
     "metadata": {},
     "output_type": "display_data"
    },
    {
     "data": {
      "text/html": [
       "<style>\n",
       "    table.wandb td:nth-child(1) { padding: 0 10px; text-align: right }\n",
       "    .wandb-row { display: flex; flex-direction: row; flex-wrap: wrap; width: 100% }\n",
       "    .wandb-col { display: flex; flex-direction: column; flex-basis: 100%; flex: 1; padding: 10px; }\n",
       "    </style>\n",
       "<div class=\"wandb-row\"><div class=\"wandb-col\"><h3>Run history:</h3><br/><table class=\"wandb\"><tr><td>train_acc</td><td>▁▃▅▅▅▅▅▆▆▆▆▆▆▇▇▇██▇▇▇▇▇▇████████▇███████</td></tr><tr><td>train_auroc</td><td>▁▄▇▇█</td></tr><tr><td>train_epoch</td><td>▁▃▅▆█</td></tr><tr><td>train_loss</td><td>▇▆▅▄▃▅▄▄▄▆▇▅▃▃▆▅▃▅▄▅▁▆▅▆▅▁▅▂▅▆▂▇▄▃█▄▁▅▃▅</td></tr><tr><td>train_step</td><td>▁▁▁▂▂▂▂▂▂▃▃▃▃▃▄▄▄▄▄▄▅▅▅▅▅▅▆▆▆▆▆▇▇▇▇▇▇███</td></tr><tr><td>val_acc</td><td>▆▃▅▅▄▄▄▄▁▄▆▆▅▆▆▅▆▇█████▇▇██▇▆▆▆▆▇█████▇█</td></tr><tr><td>val_auroc</td><td>▁▄▇▆█</td></tr><tr><td>val_epoch</td><td>▁▃▅▆█</td></tr><tr><td>val_loss</td><td>▃▇██▅▆▂█▇▆▇▄▇▇▇▄▆▅▆▅▃▇▇▆▄▂▁▅▂▅▆█▂▄▆▄▄▆▇▂</td></tr><tr><td>val_step</td><td>▁▁▁▁▂▂▂▂▂▃▃▃▃▃▃▄▄▄▄▄▅▅▅▅▅▅▆▆▆▆▆▇▇▇▇▇▇███</td></tr></table><br/></div><div class=\"wandb-col\"><h3>Run summary:</h3><br/><table class=\"wandb\"><tr><td>train_acc</td><td>0.70419</td></tr><tr><td>train_auroc</td><td>0.76487</td></tr><tr><td>train_epoch</td><td>4</td></tr><tr><td>train_loss</td><td>0.47276</td></tr><tr><td>train_step</td><td>452696</td></tr><tr><td>val_acc</td><td>0.7072</td></tr><tr><td>val_auroc</td><td>0.76962</td></tr><tr><td>val_epoch</td><td>4</td></tr><tr><td>val_loss</td><td>0.63709</td></tr><tr><td>val_step</td><td>104444</td></tr></table><br/></div></div>"
      ],
      "text/plain": [
       "<IPython.core.display.HTML object>"
      ]
     },
     "metadata": {},
     "output_type": "display_data"
    },
    {
     "data": {
      "text/html": [
       "Synced <strong style=\"color:#cdcd00\">task_3_gat</strong>: <a href=\"https://wandb.ai/jai-bardhan/gsoc-submission/runs/1hn26rfr\" target=\"_blank\">https://wandb.ai/jai-bardhan/gsoc-submission/runs/1hn26rfr</a><br/>Synced 6 W&B file(s), 2 media file(s), 2 artifact file(s) and 0 other file(s)"
      ],
      "text/plain": [
       "<IPython.core.display.HTML object>"
      ]
     },
     "metadata": {},
     "output_type": "display_data"
    },
    {
     "data": {
      "text/html": [
       "Find logs at: <code>./wandb/run-20220424_021811-1hn26rfr/logs</code>"
      ],
      "text/plain": [
       "<IPython.core.display.HTML object>"
      ]
     },
     "metadata": {},
     "output_type": "display_data"
    }
   ],
   "source": [
    "gat_model = main('task_3_gat', model_type='gat').to('cpu', non_blocking=True)"
   ]
  },
  {
   "cell_type": "code",
   "execution_count": 14,
   "id": "ae787562-05bf-4a0c-b13a-f12fa8ae642d",
   "metadata": {},
   "outputs": [],
   "source": [
    "torch.save(gat_model.state_dict(), \"gat_model.pt\")"
   ]
  }
 ],
 "metadata": {
  "kernelspec": {
   "display_name": "Python 3.8.5 64-bit ('ml': conda)",
   "language": "python",
   "name": "python38564bitmlconda30107212453f4d5ba50ee3732a99980f"
  },
  "language_info": {
   "codemirror_mode": {
    "name": "ipython",
    "version": 3
   },
   "file_extension": ".py",
   "mimetype": "text/x-python",
   "name": "python",
   "nbconvert_exporter": "python",
   "pygments_lexer": "ipython3",
   "version": "3.8.12"
  }
 },
 "nbformat": 4,
 "nbformat_minor": 5
}
