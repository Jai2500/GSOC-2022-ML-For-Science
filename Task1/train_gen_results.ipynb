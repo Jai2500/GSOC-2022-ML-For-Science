{
 "cells": [
  {
   "cell_type": "code",
   "execution_count": 1,
   "id": "ff7cb92b-3c61-4387-8ad9-f8704e6d9353",
   "metadata": {},
   "outputs": [
    {
     "name": "stderr",
     "output_type": "stream",
     "text": [
      "/home/jai.bardhan/anaconda3/envs/ml/lib/python3.8/site-packages/tqdm/auto.py:22: TqdmWarning: IProgress not found. Please update jupyter and ipywidgets. See https://ipywidgets.readthedocs.io/en/stable/user_install.html\n",
      "  from .autonotebook import tqdm as notebook_tqdm\n"
     ]
    }
   ],
   "source": [
    "import torch\n",
    "from tqdm.auto import tqdm\n",
    "import torchvision.transforms as T\n",
    "import wandb\n",
    "from torchmetrics import AUROC, ROC, Accuracy\n",
    "import copy\n",
    "import matplotlib.pyplot as plt\n",
    "\n",
    "from dataset import ImageDatasetFromHDF5"
   ]
  },
  {
   "cell_type": "code",
   "execution_count": 2,
   "id": "27a9d34b-547e-437e-8943-18f3f7958d77",
   "metadata": {},
   "outputs": [],
   "source": [
    "torch.manual_seed(42)\n",
    "\n",
    "import random\n",
    "random.seed(42)\n",
    "\n",
    "import numpy as np\n",
    "np.random.seed(42)"
   ]
  },
  {
   "cell_type": "code",
   "execution_count": 3,
   "id": "ef65d852-e401-48e2-aff3-377eb73053c1",
   "metadata": {},
   "outputs": [],
   "source": [
    "DEVICE = \"cuda\"\n",
    "TRAIN_BATCH_SIZE = 128\n",
    "VAL_BATCH_SIZE = 128\n",
    "TEST_BATCH_SIZE = 128\n",
    "NUM_EPOCHS = 5"
   ]
  },
  {
   "cell_type": "code",
   "execution_count": 4,
   "id": "d3d7e5bb-dfa5-4ce8-832f-7aff878dabe4",
   "metadata": {},
   "outputs": [],
   "source": [
    "required_transform = [\n",
    "    T.RandomHorizontalFlip(),\n",
    "    T.RandomVerticalFlip(),\n",
    "   # T.RandomAdjustSharpness(0.5, p=0.1),\n",
    "    T.Normalize(mean=[0.5, 0.5], std=[1., 1.])\n",
    "]"
   ]
  },
  {
   "cell_type": "code",
   "execution_count": 5,
   "id": "cc8de76b-c5c2-4fdf-980d-e171d0d00dae",
   "metadata": {},
   "outputs": [],
   "source": [
    "photon_file_path = \"/scratch/gsoc/SinglePhotonPt50_IMGCROPS_n249k_RHv1.hdf5\"\n",
    "electron_file_path = \"/scratch/gsoc/SingleElectronPt50_IMGCROPS_n249k_RHv1.hdf5\"\n",
    "\n",
    "photon_dset = ImageDatasetFromHDF5(\n",
    "    photon_file_path, required_transforms=required_transform\n",
    ")\n",
    "electron_dset = ImageDatasetFromHDF5(\n",
    "    electron_file_path, required_transforms=required_transform\n",
    ")\n",
    "\n",
    "combined_dset = torch.utils.data.ConcatDataset([photon_dset, electron_dset])"
   ]
  },
  {
   "cell_type": "code",
   "execution_count": 6,
   "id": "c9278ff6-7bce-457b-9d91-38086f407cad",
   "metadata": {},
   "outputs": [],
   "source": [
    "TEST_SIZE = 0.15\n",
    "VAL_SIZE = 0.15\n",
    "\n",
    "test_size = int(len(combined_dset) * TEST_SIZE)\n",
    "val_size = int(len(combined_dset) * VAL_SIZE)\n",
    "train_size = len(combined_dset) - val_size - test_size\n",
    "\n",
    "train_dset, val_dset, test_dset = torch.utils.data.random_split(\n",
    "    combined_dset,\n",
    "    [train_size, val_size, test_size],\n",
    "    generator=torch.Generator().manual_seed(42),\n",
    ")"
   ]
  },
  {
   "cell_type": "code",
   "execution_count": 7,
   "id": "539bcc50-344d-4c34-9e63-4305eea25ce4",
   "metadata": {},
   "outputs": [],
   "source": [
    "test_dset.required_transforms=[T.Normalize(mean=[0.5, 0.5], std=[1., 1.])]"
   ]
  },
  {
   "cell_type": "code",
   "execution_count": 8,
   "id": "c1f9bf9f-9116-40ec-9b83-ec1e121c7628",
   "metadata": {},
   "outputs": [],
   "source": [
    "train_loader = torch.utils.data.DataLoader(train_dset, shuffle=True, batch_size=TRAIN_BATCH_SIZE, num_workers=16)\n",
    "val_loader = torch.utils.data.DataLoader(val_dset, shuffle=False, batch_size=VAL_BATCH_SIZE, num_workers=16)\n",
    "test_loader = torch.utils.data.DataLoader(test_dset, shuffle=False, batch_size=TEST_BATCH_SIZE, num_workers=16)"
   ]
  },
  {
   "cell_type": "code",
   "execution_count": 9,
   "id": "737404ef-e15b-4605-bd8a-ccee91909b99",
   "metadata": {},
   "outputs": [],
   "source": [
    "def get_model(device):\n",
    "    model = torch.hub.load(\n",
    "    \"chenyaofo/pytorch-cifar-models\", \"cifar10_resnet20\", pretrained=False\n",
    "    )\n",
    "\n",
    "    model.conv1 = torch.nn.Conv2d(\n",
    "        2, 16, kernel_size=(3, 3), stride=(1, 1), padding=(1, 1), bias=False\n",
    "    )\n",
    "\n",
    "    in_features = model.fc.in_features\n",
    "\n",
    "    model.fc = torch.nn.Linear(in_features, 1, bias=True)\n",
    "\n",
    "    model = model.to(device)\n",
    "    \n",
    "    return model"
   ]
  },
  {
   "cell_type": "code",
   "execution_count": 10,
   "id": "9e991c74-3111-4bca-8e69-398a5938cfed",
   "metadata": {},
   "outputs": [],
   "source": [
    "def get_optimizer(model, lr):\n",
    "    return torch.optim.Adam(model.parameters(), lr=lr)"
   ]
  },
  {
   "cell_type": "code",
   "execution_count": 11,
   "id": "e77967f3-c12d-43e4-b067-cca255957f84",
   "metadata": {},
   "outputs": [],
   "source": [
    "def train(num_epochs, model, criterion, optimizer, train_loader, val_loader, device):\n",
    "    best_model = copy.deepcopy(model).to('cpu', non_blocking=True)\n",
    "    best_val_auroc = 0\n",
    "    train_auroc = AUROC(num_classes=None).to(device, non_blocking=True)\n",
    "    val_auroc = AUROC(num_classes=None).to(device, non_blocking=True)\n",
    "    acc = Accuracy().to(device, non_blocking=True)\n",
    "    \n",
    "    for epoch in range(num_epochs):\n",
    "        model.train()\n",
    "        tqdm_iter = tqdm(train_loader, total=len(train_loader))\n",
    "        tqdm_iter.set_description(f\"Epoch {epoch}\")\n",
    "\n",
    "        for it, batch in enumerate(tqdm_iter):\n",
    "            optimizer.zero_grad()\n",
    "\n",
    "            X, y = batch[0], batch[1]\n",
    "\n",
    "            X = X.to(DEVICE)\n",
    "            y = y.to(DEVICE)\n",
    "\n",
    "            out = model(X)\n",
    "\n",
    "            loss = criterion(out, y.unsqueeze(-1))\n",
    "\n",
    "            pred = torch.sigmoid(out.detach()).squeeze()\n",
    "            acc.update(pred, y.detach().long())\n",
    "            train_auroc.update(pred, y.detach().long())\n",
    "\n",
    "            tqdm_iter.set_postfix(loss=loss.item(), acc=acc.compute().item())\n",
    "            wandb.log({\n",
    "                \"train_loss\": loss.item(),\n",
    "                \"train_acc\": acc.compute().item(),\n",
    "                \"train_step\": (it * TRAIN_BATCH_SIZE) + epoch * train_size\n",
    "            })\n",
    "\n",
    "            loss.backward()\n",
    "            optimizer.step()\n",
    "\n",
    "        wandb.log({\n",
    "            \"train_auroc\": train_auroc.compute(),\n",
    "            \"train_epoch\": epoch\n",
    "        })\n",
    "        train_auroc.reset()\n",
    "        acc.reset()\n",
    "\n",
    "        model.eval()\n",
    "        val_tqdm_iter = tqdm(val_loader, total=len(val_loader))\n",
    "        val_tqdm_iter.set_description(f\"Validation Epoch {epoch}\")\n",
    "\n",
    "        for it, batch in enumerate(val_tqdm_iter):\n",
    "            with torch.no_grad():\n",
    "                X, y = batch[0], batch[1]\n",
    "\n",
    "                X = X.to(DEVICE)\n",
    "                y = y.to(DEVICE)\n",
    "\n",
    "                out = model(X)\n",
    "\n",
    "                loss = criterion(out, y.unsqueeze(-1))\n",
    "\n",
    "                pred = torch.sigmoid(out.detach()).squeeze() \n",
    "                acc.update(pred, y.detach().to(torch.long, non_blocking=True))\n",
    "                val_auroc.update(pred, y.to(torch.long, non_blocking=True))\n",
    "\n",
    "                val_tqdm_iter.set_postfix(loss=loss.item(), acc=acc.compute().item())\n",
    "                wandb.log({\n",
    "                    \"val_loss\": loss.item(),\n",
    "                    \"val_acc\": acc.compute().item(),\n",
    "                    \"val_step\": (it * VAL_BATCH_SIZE) + epoch * val_size\n",
    "                })\n",
    "\n",
    "        val_auroc_val = val_auroc.compute()\n",
    "        wandb.log({\n",
    "            \"val_auroc\": val_auroc_val,\n",
    "            \"val_epoch\": epoch\n",
    "        })\n",
    "        \n",
    "        if val_auroc_val > best_val_auroc:\n",
    "            best_model = copy.deepcopy(model).to('cpu', non_blocking=True)\n",
    "            best_val_auroc = val_auroc_val\n",
    "        \n",
    "        val_auroc.reset()\n",
    "        acc.reset()\n",
    "        \n",
    "    del model\n",
    "\n",
    "    return best_model.to(device, non_blocking=True)"
   ]
  },
  {
   "cell_type": "code",
   "execution_count": 12,
   "id": "a4dbbbab-83a7-47c7-a2ea-1a2efbb1c6cf",
   "metadata": {},
   "outputs": [],
   "source": [
    "def test(model, test_loader, device):\n",
    "    model.eval()\n",
    "    test_auroc = AUROC(num_classes=None).to(device, non_blocking=True)\n",
    "    test_acc = Accuracy().to(device, non_blocking=True)\n",
    "    test_roc_non_wandb = ROC(num_classes=None).to(device, non_blocking=True)\n",
    "    tqdm_iter = tqdm(test_loader, total=len(test_loader))\n",
    "    \n",
    "    pred_list = []\n",
    "    ground_truth_list = []\n",
    "    \n",
    "    \n",
    "    for it, batch in enumerate(tqdm_iter):\n",
    "        with torch.no_grad():\n",
    "\n",
    "            X, y = batch[0], batch[1]\n",
    "\n",
    "            X = X.to(DEVICE)\n",
    "            y = y.to(DEVICE)\n",
    "\n",
    "            out = model(X)\n",
    "\n",
    "            pred = torch.sigmoid(out.detach()).squeeze() \n",
    "            test_acc.update(pred, y.long())\n",
    "            test_auroc.update(pred, y.long())\n",
    "            test_roc_non_wandb.update(pred, y.long())\n",
    "            \n",
    "            pred_list.append(\n",
    "                pred.cpu()\n",
    "            )\n",
    "            ground_truth_list.append(\n",
    "                y.cpu().long()\n",
    "            )\n",
    "            \n",
    "            tqdm_iter.set_postfix(acc=test_acc.compute().item())\n",
    "            \n",
    "    pred_list = torch.cat(pred_list)\n",
    "    output = torch.cat([1 - pred_list.unsqueeze(-1), pred_list.unsqueeze(-1)], dim=1)\n",
    "    ground_truth_list = torch.cat(ground_truth_list)\n",
    "    \n",
    "    wandb.log({\"test_pr_curve\": wandb.plot.pr_curve(ground_truth_list, output), \n",
    "               \"test_roc_curve\": wandb.plot.roc_curve(ground_truth_list, output)})\n",
    "            \n",
    "    return test_acc.compute().item(), test_auroc.compute().item(), test_roc_non_wandb.cpu().compute()"
   ]
  },
  {
   "cell_type": "code",
   "execution_count": 13,
   "id": "4ec07fcb-0911-45fc-8a64-2184987594ce",
   "metadata": {},
   "outputs": [],
   "source": [
    "def main(run_name):\n",
    "    wandb.init(name=run_name, project='gsoc-submission')\n",
    "    \n",
    "    model = get_model(DEVICE)\n",
    "    \n",
    "    opt = get_optimizer(model, lr=3e-4)\n",
    "    criterion = torch.nn.BCEWithLogitsLoss()\n",
    "    \n",
    "    model = train(NUM_EPOCHS, model, criterion, opt, train_loader, val_loader, DEVICE)\n",
    "    test_acc, test_auroc, test_roc = test(model, test_loader, DEVICE)\n",
    "    print(f\"Model on Test dataset: Accuracy: {test_acc} \\t AUROC: {test_auroc}\")\n",
    "    \n",
    "    fpr, tpr, threshold = test_roc\n",
    "    \n",
    "    plt.figure(figsize=(6, 6))\n",
    "    plt.plot(fpr, tpr)\n",
    "    plt.xlabel(\"False Positive Rate\")\n",
    "    plt.ylabel(\"True Positive Rate\")\n",
    "    plt.title(\"ROC Curve\")\n",
    "    plt.show()\n",
    "    \n",
    "    print(f\"Thresholds: {threshold.numpy()}\")\n",
    "    \n",
    "    wandb.finish()\n",
    "    \n",
    "    return model"
   ]
  },
  {
   "cell_type": "code",
   "execution_count": 14,
   "id": "e29c31b7-fb81-49c4-bc4c-c02bab3bcfcd",
   "metadata": {},
   "outputs": [
    {
     "name": "stderr",
     "output_type": "stream",
     "text": [
      "Failed to detect the name of this notebook, you can set it manually with the WANDB_NOTEBOOK_NAME environment variable to enable code saving.\n",
      "\u001b[34m\u001b[1mwandb\u001b[0m: Currently logged in as: \u001b[33mjai-bardhan\u001b[0m (use `wandb login --relogin` to force relogin)\n"
     ]
    },
    {
     "data": {
      "text/html": [
       "wandb version 0.12.15 is available!  To upgrade, please run:\n",
       " $ pip install wandb --upgrade"
      ],
      "text/plain": [
       "<IPython.core.display.HTML object>"
      ]
     },
     "metadata": {},
     "output_type": "display_data"
    },
    {
     "data": {
      "text/html": [
       "Tracking run with wandb version 0.12.11"
      ],
      "text/plain": [
       "<IPython.core.display.HTML object>"
      ]
     },
     "metadata": {},
     "output_type": "display_data"
    },
    {
     "data": {
      "text/html": [
       "Run data is saved locally in <code>/home/jai.bardhan/GSOC/Task1/wandb/run-20220424_013810-32y2nxe9</code>"
      ],
      "text/plain": [
       "<IPython.core.display.HTML object>"
      ]
     },
     "metadata": {},
     "output_type": "display_data"
    },
    {
     "data": {
      "text/html": [
       "Syncing run <strong><a href=\"https://wandb.ai/jai-bardhan/gsoc-submission/runs/32y2nxe9\" target=\"_blank\">task_1</a></strong> to <a href=\"https://wandb.ai/jai-bardhan/gsoc-submission\" target=\"_blank\">Weights & Biases</a> (<a href=\"https://wandb.me/run\" target=\"_blank\">docs</a>)<br/>"
      ],
      "text/plain": [
       "<IPython.core.display.HTML object>"
      ]
     },
     "metadata": {},
     "output_type": "display_data"
    },
    {
     "name": "stderr",
     "output_type": "stream",
     "text": [
      "Using cache found in /home/jai.bardhan/.cache/torch/hub/chenyaofo_pytorch-cifar-models_master\n",
      "/home/jai.bardhan/anaconda3/envs/ml/lib/python3.8/site-packages/torchmetrics/utilities/prints.py:36: UserWarning: Metric `AUROC` will save all targets and predictions in buffer. For large datasets this may lead to large memory footprint.\n",
      "  warnings.warn(*args, **kwargs)\n",
      "Epoch 0: 100%|██████████| 2724/2724 [00:51<00:00, 52.75it/s, acc=0.608, loss=0.58] \n",
      "Validation Epoch 0: 100%|██████████| 584/584 [00:06<00:00, 87.17it/s, acc=0.596, loss=0.644] \n",
      "Epoch 1: 100%|██████████| 2724/2724 [00:53<00:00, 51.20it/s, acc=0.66, loss=0.494] \n",
      "Validation Epoch 1: 100%|██████████| 584/584 [00:06<00:00, 85.13it/s, acc=0.563, loss=0.779] \n",
      "Epoch 2: 100%|██████████| 2724/2724 [00:54<00:00, 50.11it/s, acc=0.697, loss=0.637]\n",
      "Validation Epoch 2: 100%|██████████| 584/584 [00:06<00:00, 86.81it/s, acc=0.546, loss=0.796] \n",
      "Epoch 3: 100%|██████████| 2724/2724 [00:53<00:00, 51.10it/s, acc=0.71, loss=0.586] \n",
      "Validation Epoch 3: 100%|██████████| 584/584 [00:06<00:00, 86.69it/s, acc=0.668, loss=0.62]  \n",
      "Epoch 4: 100%|██████████| 2724/2724 [00:53<00:00, 50.64it/s, acc=0.717, loss=0.64] \n",
      "Validation Epoch 4: 100%|██████████| 584/584 [00:06<00:00, 87.60it/s, acc=0.723, loss=0.584] \n",
      "/home/jai.bardhan/anaconda3/envs/ml/lib/python3.8/site-packages/torchmetrics/utilities/prints.py:36: UserWarning: Metric `ROC` will save all targets and predictions in buffer. For large datasets this may lead to large memory footprint.\n",
      "  warnings.warn(*args, **kwargs)\n",
      "100%|██████████| 584/584 [00:06<00:00, 89.68it/s, acc=0.723] \n",
      "\u001b[34m\u001b[1mwandb\u001b[0m: \u001b[33mWARNING\u001b[0m wandb uses only the first 10000 datapoints to create the plots.\n",
      "\u001b[34m\u001b[1mwandb\u001b[0m: \u001b[33mWARNING\u001b[0m wandb uses only the first 10000 datapoints to create the plots.\n"
     ]
    },
    {
     "name": "stdout",
     "output_type": "stream",
     "text": [
      "Model on Test dataset: Accuracy: 0.7225568890571594 \t AUROC: 0.7876846790313721\n"
     ]
    },
    {
     "data": {
      "image/png": "[encoded data removed]",
      "text/plain": [
       "<Figure size 432x432 with 1 Axes>"
      ]
     },
     "metadata": {
      "needs_background": "light"
     },
     "output_type": "display_data"
    },
    {
     "name": "stdout",
     "output_type": "stream",
     "text": [
      "Thresholds: [1.918201   0.9182009  0.9152751  ... 0.00635621 0.00627376 0.00600862]\n",
      "\n"
     ]
    },
    {
     "data": {
      "text/html": [
       "Waiting for W&B process to finish... <strong style=\"color:green\">(success).</strong>"
      ],
      "text/plain": [
       "<IPython.core.display.HTML object>"
      ]
     },
     "metadata": {},
     "output_type": "display_data"
    },
    {
     "data": {
      "text/html": [
       "<style>\n",
       "    table.wandb td:nth-child(1) { padding: 0 10px; text-align: right }\n",
       "    .wandb-row { display: flex; flex-direction: row; flex-wrap: wrap; width: 100% }\n",
       "    .wandb-col { display: flex; flex-direction: column; flex-basis: 100%; flex: 1; padding: 10px; }\n",
       "    </style>\n",
       "<div class=\"wandb-row\"><div class=\"wandb-col\"><h3>Run history:</h3><br/><table class=\"wandb\"><tr><td>train_acc</td><td>▁▂▃▃▃▃▃▃▅▅▅▅▅▅▅▆▇▇▇▇▇▇▇▇████████████████</td></tr><tr><td>train_auroc</td><td>▁▄▇██</td></tr><tr><td>train_epoch</td><td>▁▃▅▆█</td></tr><tr><td>train_loss</td><td>▇▆▆▆▅▆▆▅█▅▆▆▄▄▅▆▂▄▃▅▅▃▃▄▄▃▅▄▄▃▃▂▂▅▃▁▁▃▂▂</td></tr><tr><td>train_step</td><td>▁▁▁▂▂▂▂▂▂▃▃▃▃▃▃▄▄▄▄▄▅▅▅▅▅▅▆▆▆▆▆▇▇▇▇▇▇███</td></tr><tr><td>val_acc</td><td>▃▃▃▃▃▃▃▃▂▂▂▂▂▂▂▂▁▁▁▁▁▁▁▁▆▆▆▆▆▆▆▆████████</td></tr><tr><td>val_auroc</td><td>▁▁▃▆█</td></tr><tr><td>val_epoch</td><td>▁▃▅▆█</td></tr><tr><td>val_loss</td><td>▆▅▅▇▆▆▅▅▆▆▇▇▆▇▅▅▆▆█▇▆▆▇▆▄▅▃▄▃▄▄▄▃▃▃▁▃▂▃▂</td></tr><tr><td>val_step</td><td>▁▁▁▁▂▂▂▂▂▃▃▃▃▃▄▄▄▄▄▄▅▅▅▅▅▅▆▆▆▆▆▇▇▇▇▇████</td></tr></table><br/></div><div class=\"wandb-col\"><h3>Run summary:</h3><br/><table class=\"wandb\"><tr><td>train_acc</td><td>0.71682</td></tr><tr><td>train_auroc</td><td>0.78102</td></tr><tr><td>train_epoch</td><td>4</td></tr><tr><td>train_loss</td><td>0.64013</td></tr><tr><td>train_step</td><td>1742944</td></tr><tr><td>val_acc</td><td>0.72296</td></tr><tr><td>val_auroc</td><td>0.78788</td></tr><tr><td>val_epoch</td><td>4</td></tr><tr><td>val_loss</td><td>0.58441</td></tr><tr><td>val_step</td><td>373424</td></tr></table><br/></div></div>"
      ],
      "text/plain": [
       "<IPython.core.display.HTML object>"
      ]
     },
     "metadata": {},
     "output_type": "display_data"
    },
    {
     "data": {
      "text/html": [
       "Synced <strong style=\"color:#cdcd00\">task_1</strong>: <a href=\"https://wandb.ai/jai-bardhan/gsoc-submission/runs/32y2nxe9\" target=\"_blank\">https://wandb.ai/jai-bardhan/gsoc-submission/runs/32y2nxe9</a><br/>Synced 6 W&B file(s), 2 media file(s), 2 artifact file(s) and 0 other file(s)"
      ],
      "text/plain": [
       "<IPython.core.display.HTML object>"
      ]
     },
     "metadata": {},
     "output_type": "display_data"
    },
    {
     "data": {
      "text/html": [
       "Find logs at: <code>./wandb/run-20220424_013810-32y2nxe9/logs</code>"
      ],
      "text/plain": [
       "<IPython.core.display.HTML object>"
      ]
     },
     "metadata": {},
     "output_type": "display_data"
    }
   ],
   "source": [
    "model = main('task_1')"
   ]
  },
  {
   "cell_type": "code",
   "execution_count": 15,
   "id": "cb498e96-5715-4498-9c00-5d6d919babf9",
   "metadata": {},
   "outputs": [],
   "source": [
    "torch.save(model.state_dict(), \"task_1_model.pt\")"
   ]
  }
 ],
 "metadata": {
  "kernelspec": {
   "display_name": "Python 3.8.5 64-bit ('ml': conda)",
   "language": "python",
   "name": "python38564bitmlconda30107212453f4d5ba50ee3732a99980f"
  },
  "language_info": {
   "codemirror_mode": {
    "name": "ipython",
    "version": 3
   },
   "file_extension": ".py",
   "mimetype": "text/x-python",
   "name": "python",
   "nbconvert_exporter": "python",
   "pygments_lexer": "ipython3",
   "version": "3.8.12"
  }
 },
 "nbformat": 4,
 "nbformat_minor": 5
}
